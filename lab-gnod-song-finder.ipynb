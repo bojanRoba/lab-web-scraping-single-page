{
 "cells": [
  {
   "cell_type": "markdown",
   "id": "40044d60",
   "metadata": {},
   "source": [
    "<div style='text-align: right;'>\n",
    "  bojan.gjokjevski\n",
    "</div>\n",
    "\n",
    "## Lab | Web Scraping Single Page (GNOD part 1)\n",
    "\n",
    "---\n",
    "\n",
    "Business goal:\n",
    "\n",
    "* Check the [case_study_gnod.md](https://github.com/ta-data-remote/lab-web-scraping-single-page/blob/master/case-study-gnod.md) file.\n",
    "* Make sure you've understood the big picture of your project:\n",
    "    * the goal of the company (Gnod),\n",
    "    * their current product (Gnoosic),\n",
    "    * their strategy, and\n",
    "    * how your project fits into this context\n",
    "\n",
    "* Re-read the business case and the e-mail from the CTO.\n",
    "\n",
    "---\n",
    "\n",
    "**Instructions - Scraping popular songs**\n",
    "\n",
    "Your product will take a song as an input from the user and will output another song (the recommendation). In most cases, the recommended song will have to be similar to the inputted song, but the CTO thinks that if the song is on the top charts at the moment, the user will also enjoy a recommendation of another song that is popular at the moment.\n",
    "\n",
    "You have to find data on the internet about currently popular songs. Popvortex maintains a weekly Top 100 of \"hot\" songs here:<br> \n",
    "• http://www.popvortex.com/music/charts/top-100-songs.php\n",
    "\n",
    "It's a good place to start! Scrape the current top 100 songs and their respective artists, and put the information into a pandas dataframe.\n",
    "\n",
    "---"
   ]
  },
  {
   "cell_type": "code",
   "execution_count": null,
   "id": "65d8857b",
   "metadata": {},
   "outputs": [],
   "source": [
    "# Scrape the current top 100 songs and their respective artists, and put the information into a pandas dataframe."
   ]
  },
  {
   "cell_type": "code",
   "execution_count": 2,
   "id": "cf0c19ab",
   "metadata": {},
   "outputs": [],
   "source": [
    "import pandas as pd\n",
    "import numpy as np\n",
    "import matplotlib.pyplot as plt\n",
    "import seaborn as sns\n",
    "import requests\n",
    "import random\n",
    "import pickle\n",
    "import spotipy"
   ]
  },
  {
   "cell_type": "code",
   "execution_count": 3,
   "id": "2855ed03-7a2e-4a55-b013-6399c15d1f6f",
   "metadata": {},
   "outputs": [],
   "source": [
    "from bs4 import BeautifulSoup\n",
    "from pandas import json_normalize\n",
    "from random import randint\n",
    "from spotipy.oauth2 import SpotifyClientCredentials\n",
    "from sklearn import cluster, datasets\n",
    "from sklearn.cluster import KMeans\n",
    "from sklearn.preprocessing import StandardScaler\n",
    "from sklearn.metrics import silhouette_score\n",
    "from matplotlib.lines import Line2D"
   ]
  },
  {
   "cell_type": "code",
   "execution_count": 11,
   "id": "9f7e45b9",
   "metadata": {},
   "outputs": [],
   "source": [
    "# Connecting with Spotify API\n",
    "\n",
    "secrets_file = open(\"secrets.txt\",\"r\")\n",
    "string = secrets_file.read()\n",
    "\n",
    "secrets_dict = {}\n",
    "\n",
    "for line in string.split('\\n'):\n",
    "    \n",
    "    if len(line) > 0:\n",
    "        \n",
    "        #print(line.split(':'))\n",
    "        secrets_dict[line.split(':')[0]] = line.split(':')[1].strip()\n",
    "        "
   ]
  },
  {
   "cell_type": "code",
   "execution_count": 12,
   "id": "3bd5b6d6-f2f9-44f1-9f5d-9a7c36e4c02e",
   "metadata": {},
   "outputs": [],
   "source": [
    "# Initialize SpotiPy with user credentials\n",
    "\n",
    "sp = spotipy.Spotify(\n",
    "    \n",
    "    auth_manager = SpotifyClientCredentials(\n",
    "        \n",
    "        client_id = secrets_dict['clientid'],\n",
    "        client_secret = secrets_dict['clientsecret']\n",
    "    )\n",
    ")\n"
   ]
  },
  {
   "cell_type": "code",
   "execution_count": 6,
   "id": "9a04bfeb-0006-4d5a-baca-64589dcaff22",
   "metadata": {},
   "outputs": [],
   "source": [
    "pd.set_option('display.max_columns', None)"
   ]
  },
  {
   "cell_type": "code",
   "execution_count": 8,
   "id": "fb313218-5791-4b15-9880-e01abd231493",
   "metadata": {},
   "outputs": [
    {
     "data": {
      "text/html": [
       "<div>\n",
       "<style scoped>\n",
       "    .dataframe tbody tr th:only-of-type {\n",
       "        vertical-align: middle;\n",
       "    }\n",
       "\n",
       "    .dataframe tbody tr th {\n",
       "        vertical-align: top;\n",
       "    }\n",
       "\n",
       "    .dataframe thead th {\n",
       "        text-align: right;\n",
       "    }\n",
       "</style>\n",
       "<table border=\"1\" class=\"dataframe\">\n",
       "  <thead>\n",
       "    <tr style=\"text-align: right;\">\n",
       "      <th></th>\n",
       "      <th>song</th>\n",
       "      <th>artist</th>\n",
       "    </tr>\n",
       "  </thead>\n",
       "  <tbody>\n",
       "    <tr>\n",
       "      <th>0</th>\n",
       "      <td>Beautiful Things</td>\n",
       "      <td>Benson Boone</td>\n",
       "    </tr>\n",
       "    <tr>\n",
       "      <th>1</th>\n",
       "      <td>Enough (Miami)</td>\n",
       "      <td>Cardi B</td>\n",
       "    </tr>\n",
       "    <tr>\n",
       "      <th>2</th>\n",
       "      <td>Fri(End)S</td>\n",
       "      <td>V</td>\n",
       "    </tr>\n",
       "    <tr>\n",
       "      <th>3</th>\n",
       "      <td>Lose Control</td>\n",
       "      <td>Teddy Swims</td>\n",
       "    </tr>\n",
       "    <tr>\n",
       "      <th>4</th>\n",
       "      <td>Texas Hold 'Em</td>\n",
       "      <td>Beyoncé</td>\n",
       "    </tr>\n",
       "  </tbody>\n",
       "</table>\n",
       "</div>"
      ],
      "text/plain": [
       "               song        artist\n",
       "0  Beautiful Things  Benson Boone\n",
       "1    Enough (Miami)       Cardi B\n",
       "2         Fri(End)S             V\n",
       "3      Lose Control   Teddy Swims\n",
       "4    Texas Hold 'Em       Beyoncé"
      ]
     },
     "metadata": {},
     "output_type": "display_data"
    },
    {
     "data": {
      "text/plain": [
       "(200, 2)"
      ]
     },
     "metadata": {},
     "output_type": "display_data"
    },
    {
     "data": {
      "text/html": [
       "<div>\n",
       "<style scoped>\n",
       "    .dataframe tbody tr th:only-of-type {\n",
       "        vertical-align: middle;\n",
       "    }\n",
       "\n",
       "    .dataframe tbody tr th {\n",
       "        vertical-align: top;\n",
       "    }\n",
       "\n",
       "    .dataframe thead th {\n",
       "        text-align: right;\n",
       "    }\n",
       "</style>\n",
       "<table border=\"1\" class=\"dataframe\">\n",
       "  <thead>\n",
       "    <tr style=\"text-align: right;\">\n",
       "      <th></th>\n",
       "      <th>track.name</th>\n",
       "      <th>name</th>\n",
       "      <th>song_id</th>\n",
       "      <th>danceability</th>\n",
       "      <th>energy</th>\n",
       "      <th>key</th>\n",
       "      <th>loudness</th>\n",
       "      <th>mode</th>\n",
       "      <th>speechiness</th>\n",
       "      <th>acousticness</th>\n",
       "      <th>instrumentalness</th>\n",
       "      <th>liveness</th>\n",
       "      <th>valence</th>\n",
       "      <th>tempo</th>\n",
       "      <th>type</th>\n",
       "      <th>id</th>\n",
       "      <th>uri</th>\n",
       "      <th>track_href</th>\n",
       "      <th>analysis_url</th>\n",
       "      <th>duration_ms</th>\n",
       "      <th>time_signature</th>\n",
       "      <th>cluster</th>\n",
       "    </tr>\n",
       "  </thead>\n",
       "  <tbody>\n",
       "    <tr>\n",
       "      <th>0</th>\n",
       "      <td>2K</td>\n",
       "      <td>Nosaj Thing</td>\n",
       "      <td>33xMbeHzmWd6Od0BmLZEUs</td>\n",
       "      <td>0.310</td>\n",
       "      <td>0.445</td>\n",
       "      <td>7</td>\n",
       "      <td>-13.355</td>\n",
       "      <td>0</td>\n",
       "      <td>0.0863</td>\n",
       "      <td>0.0940</td>\n",
       "      <td>0.06780</td>\n",
       "      <td>0.1130</td>\n",
       "      <td>0.122</td>\n",
       "      <td>95.360</td>\n",
       "      <td>audio_features</td>\n",
       "      <td>33xMbeHzmWd6Od0BmLZEUs</td>\n",
       "      <td>spotify:track:33xMbeHzmWd6Od0BmLZEUs</td>\n",
       "      <td>https://api.spotify.com/v1/tracks/33xMbeHzmWd6...</td>\n",
       "      <td>https://api.spotify.com/v1/audio-analysis/33xM...</td>\n",
       "      <td>152560</td>\n",
       "      <td>3</td>\n",
       "      <td>5</td>\n",
       "    </tr>\n",
       "    <tr>\n",
       "      <th>1</th>\n",
       "      <td>4 Billion Souls</td>\n",
       "      <td>The Doors</td>\n",
       "      <td>3UnyplmZaq547hwsfOR5yy</td>\n",
       "      <td>0.419</td>\n",
       "      <td>0.565</td>\n",
       "      <td>5</td>\n",
       "      <td>-11.565</td>\n",
       "      <td>1</td>\n",
       "      <td>0.0347</td>\n",
       "      <td>0.1370</td>\n",
       "      <td>0.33700</td>\n",
       "      <td>0.1280</td>\n",
       "      <td>0.648</td>\n",
       "      <td>151.277</td>\n",
       "      <td>audio_features</td>\n",
       "      <td>3UnyplmZaq547hwsfOR5yy</td>\n",
       "      <td>spotify:track:3UnyplmZaq547hwsfOR5yy</td>\n",
       "      <td>https://api.spotify.com/v1/tracks/3UnyplmZaq54...</td>\n",
       "      <td>https://api.spotify.com/v1/audio-analysis/3Uny...</td>\n",
       "      <td>197707</td>\n",
       "      <td>4</td>\n",
       "      <td>4</td>\n",
       "    </tr>\n",
       "    <tr>\n",
       "      <th>2</th>\n",
       "      <td>4 Minute Warning</td>\n",
       "      <td>Radiohead</td>\n",
       "      <td>1w8QCSDH4QobcQeT4uMKLm</td>\n",
       "      <td>0.354</td>\n",
       "      <td>0.302</td>\n",
       "      <td>9</td>\n",
       "      <td>-13.078</td>\n",
       "      <td>1</td>\n",
       "      <td>0.0326</td>\n",
       "      <td>0.5900</td>\n",
       "      <td>0.07090</td>\n",
       "      <td>0.1110</td>\n",
       "      <td>0.223</td>\n",
       "      <td>123.753</td>\n",
       "      <td>audio_features</td>\n",
       "      <td>1w8QCSDH4QobcQeT4uMKLm</td>\n",
       "      <td>spotify:track:1w8QCSDH4QobcQeT4uMKLm</td>\n",
       "      <td>https://api.spotify.com/v1/tracks/1w8QCSDH4Qob...</td>\n",
       "      <td>https://api.spotify.com/v1/audio-analysis/1w8Q...</td>\n",
       "      <td>244285</td>\n",
       "      <td>4</td>\n",
       "      <td>2</td>\n",
       "    </tr>\n",
       "    <tr>\n",
       "      <th>3</th>\n",
       "      <td>7 Element</td>\n",
       "      <td>Vitas</td>\n",
       "      <td>7J9mBHG4J2eIfDAv5BehKA</td>\n",
       "      <td>0.727</td>\n",
       "      <td>0.785</td>\n",
       "      <td>5</td>\n",
       "      <td>-6.707</td>\n",
       "      <td>0</td>\n",
       "      <td>0.0603</td>\n",
       "      <td>0.3250</td>\n",
       "      <td>0.12600</td>\n",
       "      <td>0.3100</td>\n",
       "      <td>0.960</td>\n",
       "      <td>129.649</td>\n",
       "      <td>audio_features</td>\n",
       "      <td>7J9mBHG4J2eIfDAv5BehKA</td>\n",
       "      <td>spotify:track:7J9mBHG4J2eIfDAv5BehKA</td>\n",
       "      <td>https://api.spotify.com/v1/tracks/7J9mBHG4J2eI...</td>\n",
       "      <td>https://api.spotify.com/v1/audio-analysis/7J9m...</td>\n",
       "      <td>249940</td>\n",
       "      <td>4</td>\n",
       "      <td>3</td>\n",
       "    </tr>\n",
       "    <tr>\n",
       "      <th>4</th>\n",
       "      <td>#9 Dream</td>\n",
       "      <td>R.E.M.</td>\n",
       "      <td>1VZedwJj1gyi88WFRhfThb</td>\n",
       "      <td>0.571</td>\n",
       "      <td>0.724</td>\n",
       "      <td>0</td>\n",
       "      <td>-5.967</td>\n",
       "      <td>1</td>\n",
       "      <td>0.0260</td>\n",
       "      <td>0.0231</td>\n",
       "      <td>0.00311</td>\n",
       "      <td>0.0919</td>\n",
       "      <td>0.385</td>\n",
       "      <td>116.755</td>\n",
       "      <td>audio_features</td>\n",
       "      <td>1VZedwJj1gyi88WFRhfThb</td>\n",
       "      <td>spotify:track:1VZedwJj1gyi88WFRhfThb</td>\n",
       "      <td>https://api.spotify.com/v1/tracks/1VZedwJj1gyi...</td>\n",
       "      <td>https://api.spotify.com/v1/audio-analysis/1VZe...</td>\n",
       "      <td>278320</td>\n",
       "      <td>4</td>\n",
       "      <td>0</td>\n",
       "    </tr>\n",
       "  </tbody>\n",
       "</table>\n",
       "</div>"
      ],
      "text/plain": [
       "         track.name         name                 song_id  danceability  \\\n",
       "0                2K  Nosaj Thing  33xMbeHzmWd6Od0BmLZEUs         0.310   \n",
       "1   4 Billion Souls    The Doors  3UnyplmZaq547hwsfOR5yy         0.419   \n",
       "2  4 Minute Warning    Radiohead  1w8QCSDH4QobcQeT4uMKLm         0.354   \n",
       "3         7 Element        Vitas  7J9mBHG4J2eIfDAv5BehKA         0.727   \n",
       "4          #9 Dream       R.E.M.  1VZedwJj1gyi88WFRhfThb         0.571   \n",
       "\n",
       "   energy  key  loudness  mode  speechiness  acousticness  instrumentalness  \\\n",
       "0   0.445    7   -13.355     0       0.0863        0.0940           0.06780   \n",
       "1   0.565    5   -11.565     1       0.0347        0.1370           0.33700   \n",
       "2   0.302    9   -13.078     1       0.0326        0.5900           0.07090   \n",
       "3   0.785    5    -6.707     0       0.0603        0.3250           0.12600   \n",
       "4   0.724    0    -5.967     1       0.0260        0.0231           0.00311   \n",
       "\n",
       "   liveness  valence    tempo            type                      id  \\\n",
       "0    0.1130    0.122   95.360  audio_features  33xMbeHzmWd6Od0BmLZEUs   \n",
       "1    0.1280    0.648  151.277  audio_features  3UnyplmZaq547hwsfOR5yy   \n",
       "2    0.1110    0.223  123.753  audio_features  1w8QCSDH4QobcQeT4uMKLm   \n",
       "3    0.3100    0.960  129.649  audio_features  7J9mBHG4J2eIfDAv5BehKA   \n",
       "4    0.0919    0.385  116.755  audio_features  1VZedwJj1gyi88WFRhfThb   \n",
       "\n",
       "                                    uri  \\\n",
       "0  spotify:track:33xMbeHzmWd6Od0BmLZEUs   \n",
       "1  spotify:track:3UnyplmZaq547hwsfOR5yy   \n",
       "2  spotify:track:1w8QCSDH4QobcQeT4uMKLm   \n",
       "3  spotify:track:7J9mBHG4J2eIfDAv5BehKA   \n",
       "4  spotify:track:1VZedwJj1gyi88WFRhfThb   \n",
       "\n",
       "                                          track_href  \\\n",
       "0  https://api.spotify.com/v1/tracks/33xMbeHzmWd6...   \n",
       "1  https://api.spotify.com/v1/tracks/3UnyplmZaq54...   \n",
       "2  https://api.spotify.com/v1/tracks/1w8QCSDH4Qob...   \n",
       "3  https://api.spotify.com/v1/tracks/7J9mBHG4J2eI...   \n",
       "4  https://api.spotify.com/v1/tracks/1VZedwJj1gyi...   \n",
       "\n",
       "                                        analysis_url  duration_ms  \\\n",
       "0  https://api.spotify.com/v1/audio-analysis/33xM...       152560   \n",
       "1  https://api.spotify.com/v1/audio-analysis/3Uny...       197707   \n",
       "2  https://api.spotify.com/v1/audio-analysis/1w8Q...       244285   \n",
       "3  https://api.spotify.com/v1/audio-analysis/7J9m...       249940   \n",
       "4  https://api.spotify.com/v1/audio-analysis/1VZe...       278320   \n",
       "\n",
       "   time_signature  cluster  \n",
       "0               3        5  \n",
       "1               4        4  \n",
       "2               4        2  \n",
       "3               4        3  \n",
       "4               4        0  "
      ]
     },
     "metadata": {},
     "output_type": "display_data"
    },
    {
     "data": {
      "text/plain": [
       "(17172, 22)"
      ]
     },
     "metadata": {},
     "output_type": "display_data"
    }
   ],
   "source": [
    "# Importing CSV files\n",
    "\n",
    "hot_songs_df = pd.read_csv('hot_songs.csv')\n",
    "display(hot_songs_df.head())\n",
    "display(hot_songs_df.shape)\n",
    "\n",
    "sp_songs_df = pd.read_csv('sp_songs_df.csv')\n",
    "display(sp_songs_df.head())\n",
    "display(sp_songs_df.shape)"
   ]
  },
  {
   "cell_type": "code",
   "execution_count": 15,
   "id": "fae358fb-8cdd-41d8-9f0c-6690188ea4c2",
   "metadata": {},
   "outputs": [
    {
     "data": {
      "text/plain": [
       "0    https://api.spotify.com/v1/tracks/33xMbeHzmWd6Od0BmLZEUs\n",
       "1    https://api.spotify.com/v1/tracks/3UnyplmZaq547hwsfOR5yy\n",
       "2    https://api.spotify.com/v1/tracks/1w8QCSDH4QobcQeT4uMKLm\n",
       "3    https://api.spotify.com/v1/tracks/7J9mBHG4J2eIfDAv5BehKA\n",
       "4    https://api.spotify.com/v1/tracks/1VZedwJj1gyi88WFRhfThb\n",
       "Name: track_href, dtype: object"
      ]
     },
     "metadata": {},
     "output_type": "display_data"
    }
   ],
   "source": [
    "pd.set_option('display.max_colwidth', None)\n",
    "\n",
    "display(sp_songs_df['track_href'].head())\n",
    "\n",
    "pd.reset_option('display.max_colwidth')"
   ]
  },
  {
   "cell_type": "code",
   "execution_count": 18,
   "id": "ba9ac3aa-8d91-47f9-8abc-9bc731588977",
   "metadata": {},
   "outputs": [],
   "source": [
    "# Scaler and fitted K-Means model\n",
    "\n",
    "#scaler\n",
    "Standardtransformer = pickle.load(open('Standardtransformer.pkl','rb'))\n",
    "\n",
    "#K-means model\n",
    "kmeans = pickle.load(open('kmean.pkl', 'rb'))"
   ]
  },
  {
   "cell_type": "code",
   "execution_count": 28,
   "id": "ef268f5f-453e-49ac-a7ae-df5778b03030",
   "metadata": {},
   "outputs": [],
   "source": [
    "# Building algorithm: song_finder\n",
    "\n",
    "def song_finder(song_title):\n",
    "    \n",
    "    title_lower_case = song_title.lower()\n",
    "    \n",
    "    if title_lower_case in hot_songs['song'].str.lower().tolist():\n",
    "        \n",
    "        recommended_song = random.choice(hot_songs['song'])\n",
    "        return f\"We recommend you to listen '{recommended_song}' as well, one of top hot hits right now!\"\n",
    "        \n",
    "    else:\n",
    "        \n",
    "        results = sp.search(\n",
    "            q = song_title.lower(), limit = 10\n",
    "        )\n",
    "        \n",
    "        tracks = json_normalize(\n",
    "            results[\"tracks\"][\"items\"]\n",
    "        )\n",
    "        \n",
    "        def expand_list_dict(row):\n",
    "            \n",
    "            df = json_normalize(row['artists'])\n",
    "            df['song_id'] = row['id']\n",
    "            \n",
    "            return df\n",
    "            \n",
    "        tracks['artists_dfs'] = tracks.apply(expand_list_dict, axis=1)\n",
    "        artist_df = pd.DataFrame(columns=['external_urls.spotify', 'href', 'id', 'name', 'type', 'uri', 'song_id'])\n",
    "        \n",
    "        for mini_df in tracks['artists_dfs']:\n",
    "            \n",
    "            artist_df = pd.concat([artist_df, mini_df], axis=0)\n",
    "            \n",
    "            df_merged = pd.merge(\n",
    "                \n",
    "                left=tracks,\n",
    "                right=artist_df,\n",
    "                how='inner',\n",
    "                left_on='id',\n",
    "                right_on='song_id'\n",
    "            )\n",
    "        \n",
    "        # saving into a df_final the name of the song, artist and song_id associated with input song\n",
    "        df_final = df_merged[['name_x', 'name_y', 'song_id']]\n",
    "        \n",
    "        # now need to confirm with user the song and artist from list.\n",
    "        # if yes, then do another request to Spotify to get song data; if not, ask the user again until possible.\n",
    "        \n",
    "        row_index = 0 #so then it starts selecting the first row\n",
    "        \n",
    "        while row_index < len(df_final):\n",
    "            \n",
    "            x = input('Did you mean '+df_final['name_x'].iloc[row_index]+' by '+df_final['name_y'].iloc[row_index]+'?').lower()\n",
    "            \n",
    "            if x in ['yes', 'y', 'ys', 'es', 'si', 'oui']:\n",
    "                \n",
    "                song_info = json_normalize(sp.audio_features(df_final['song_id'].iloc[row_index]))\n",
    "                \n",
    "                # to break the while loop\n",
    "                break \n",
    "            \n",
    "            else:\n",
    "                \n",
    "                print('ok, let me try again')\n",
    "                row_index += 1 # to repeat the process but taking the next song in the df_final\n",
    "                \n",
    "        song_input_df = song_info[\n",
    "        [\n",
    "            'danceability', 'energy', 'key', 'loudness', 'mode', 'speechiness', 'acousticness', \n",
    "            'instrumentalness', 'liveness', 'valence', 'tempo', 'duration_ms', 'time_signature'\n",
    "        ]]\n",
    "        \n",
    "        # scaling\n",
    "        song_input_df_scaled = Standardtransformer.transform(song_input_df)\n",
    "\n",
    "        # creating df\n",
    "        song_input_df_scaled = pd.DataFrame(song_input_df_scaled, columns = song_input_df.columns)\n",
    "        \n",
    "        cluster_song = kmeans.predict(song_input_df_scaled)\n",
    "        \n",
    "        array = sp_songs_df.name[sp_songs_df.cluster == cluster_song[0]].reset_index(drop=True)\n",
    "        \n",
    "        recommended_song = random.choice(array)\n",
    "        \n",
    "        return f\"We recommend you to listen '{recommended_song}' as well:)\"\n",
    "        "
   ]
  },
  {
   "cell_type": "code",
   "execution_count": 29,
   "id": "7ea3bd1a-6cc8-4abf-bfe6-efff30fa3f5b",
   "metadata": {},
   "outputs": [
    {
     "name": "stdin",
     "output_type": "stream",
     "text": [
      "Did you mean Poker Face by Lady Gaga? n\n"
     ]
    },
    {
     "name": "stdout",
     "output_type": "stream",
     "text": [
      "ok, let me try again\n"
     ]
    },
    {
     "name": "stdin",
     "output_type": "stream",
     "text": [
      "Did you mean Poker Face by Bread Beatz? y\n"
     ]
    },
    {
     "data": {
      "text/plain": [
       "\"We recommend you to listen 'Brian Epstein' as well:)\""
      ]
     },
     "execution_count": 29,
     "metadata": {},
     "output_type": "execute_result"
    }
   ],
   "source": [
    "song_finder('poker face')"
   ]
  },
  {
   "cell_type": "code",
   "execution_count": 30,
   "id": "14e9dc81-c7e5-4bb1-bff7-4671c8a729ea",
   "metadata": {},
   "outputs": [
    {
     "name": "stdin",
     "output_type": "stream",
     "text": [
      "Did you mean Boulevard of Broken Dreams by Green Day? y\n"
     ]
    },
    {
     "data": {
      "text/plain": [
       "\"We recommend you to listen 'Mac DeMarco' as well:)\""
      ]
     },
     "execution_count": 30,
     "metadata": {},
     "output_type": "execute_result"
    }
   ],
   "source": [
    "song_finder('walk alone')"
   ]
  },
  {
   "cell_type": "code",
   "execution_count": 31,
   "id": "4a18076b-129d-44b4-87b1-84fff4ac6df1",
   "metadata": {},
   "outputs": [
    {
     "name": "stdin",
     "output_type": "stream",
     "text": [
      "Did you mean Dear God 2.0 by The Roots? y\n"
     ]
    },
    {
     "data": {
      "text/plain": [
       "\"We recommend you to listen 'The 5th Dimension' as well:)\""
      ]
     },
     "execution_count": 31,
     "metadata": {},
     "output_type": "execute_result"
    }
   ],
   "source": [
    "song_finder('dear god 2.0')"
   ]
  },
  {
   "cell_type": "code",
   "execution_count": 34,
   "id": "a35ae2f6-46d5-4edd-980a-cb2e5a6a26e9",
   "metadata": {},
   "outputs": [
    {
     "name": "stdin",
     "output_type": "stream",
     "text": [
      "Did you mean So What (feat. John Coltrane, Cannonball Adderley & Bill Evans) by Miles Davis? y\n"
     ]
    },
    {
     "data": {
      "text/plain": [
       "\"We recommend you to listen 'Fitz and The Tantrums' as well:)\""
      ]
     },
     "execution_count": 34,
     "metadata": {},
     "output_type": "execute_result"
    }
   ],
   "source": [
    "song_finder('kind of blue')"
   ]
  },
  {
   "cell_type": "code",
   "execution_count": 36,
   "id": "d99619f6-cb1e-4ee7-887e-a9a3f2bac287",
   "metadata": {},
   "outputs": [
    {
     "name": "stdin",
     "output_type": "stream",
     "text": [
      "Did you mean Enough (Miami) by Cardi B? y\n"
     ]
    },
    {
     "data": {
      "text/plain": [
       "\"We recommend you to listen 'Philip Glass' as well:)\""
      ]
     },
     "execution_count": 36,
     "metadata": {},
     "output_type": "execute_result"
    }
   ],
   "source": [
    "song_finder('enough')"
   ]
  },
  {
   "cell_type": "markdown",
   "id": "12eb13b0-0317-4133-a528-ddc9f52cad9b",
   "metadata": {},
   "source": [
    "---\n",
    "<div style='text-align: center;'>\n",
    "    • the end •\n",
    "    </div>"
   ]
  }
 ],
 "metadata": {
  "kernelspec": {
   "display_name": "Python 3 (ipykernel)",
   "language": "python",
   "name": "python3"
  },
  "language_info": {
   "codemirror_mode": {
    "name": "ipython",
    "version": 3
   },
   "file_extension": ".py",
   "mimetype": "text/x-python",
   "name": "python",
   "nbconvert_exporter": "python",
   "pygments_lexer": "ipython3",
   "version": "3.11.8"
  }
 },
 "nbformat": 4,
 "nbformat_minor": 5
}
